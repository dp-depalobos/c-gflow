{
 "cells": [
  {
   "cell_type": "code",
   "execution_count": 1,
   "metadata": {},
   "outputs": [],
   "source": [
    "from pyspark.sql.functions import array, col, collect_list, struct, when\n",
    "\n",
    "class Decorator:\n",
    "    '''Responsible for modifying the dataframe such as adding\n",
    "        additional columns or combining rows together'''\n",
    "    def calc_max_depth(self, df):\n",
    "        columns = [c for c in df.columns if 'id' in c.lower()]\n",
    "        return df.withColumn(\"levels\", \\\n",
    "            sum(when(col(column).isNotNull(), 1) \\\n",
    "            .otherwise(0) for column in columns)) \\\n",
    "            .agg({\"levels\": \"max\"}).collect()[0][0]\n",
    "\n",
    "    def aggregate_child_node(self, df):\n",
    "        return df.groupBy(df.pid)\\\n",
    "            .agg(collect_list(df.concat).alias('children'))\\\n",
    "            .withColumnRenamed('pid', 'tempID')\n",
    "    \n",
    "    def concat_columns(self, df):\n",
    "        return df.withColumn('concat', (struct( \\\n",
    "            col('label'), col('ID'),\\\n",
    "            col('link'), col('children'))))\n",
    "\n",
    "    def remove_duplicates(self, df):\n",
    "        return df.distinct()\n",
    "    \n",
    "    def fill_null_children(self, df):\n",
    "        return df.withColumn( \\\n",
    "            \"children\", \\\n",
    "            when(df.children.isNull(), array()) \\\n",
    "            .otherwise(df.children))\n",
    "\n",
    "    def append_empty_children(self, df):\n",
    "        return df.withColumn(\"children\", array())"
   ]
  },
  {
   "cell_type": "code",
   "execution_count": 2,
   "metadata": {},
   "outputs": [],
   "source": [
    "from pyspark.sql import SparkSession\n",
    "\n",
    "class Initializer:\n",
    "    '''Function of class is to initialize spark session'''\n",
    "    def initialize(self):\n",
    "        return SparkSession.builder\\\n",
    "            .master(\"local\")\\\n",
    "            .config(\"spark.sql.autoBroadcastJoinThreshold\", -1)\\\n",
    "            .config(\"spark.executor.memory\", \"500mb\")\\\n",
    "            .appName(\"morisson\")\\\n",
    "            .getOrCreate()"
   ]
  },
  {
   "cell_type": "code",
   "execution_count": 3,
   "metadata": {},
   "outputs": [],
   "source": [
    "class Getter:\n",
    "    '''Responsible for getting information from dataframe \n",
    "        like column names and partial dataframe'''\n",
    "    def get_column_names(self, df, depth):\n",
    "        pattern = str(depth) + str(' ')\n",
    "        columns = [c for c in df.columns if pattern in c]\n",
    "        for c in columns:\n",
    "            if 'name' in c.lower():\n",
    "                name = c\n",
    "            if 'url' in c.lower():\n",
    "                url = c\n",
    "            if 'id' in c.lower():\n",
    "                id = c\n",
    "        return name, id, url\n",
    "    \n",
    "    def get_first_node(self, df, name, id, url):\n",
    "        return df.select(name, id, url)\\\n",
    "            .filter(df[id].isNotNull())\\\n",
    "            .withColumnRenamed(name, 'label')\\\n",
    "            .withColumnRenamed(id, 'ID')\\\n",
    "            .withColumnRenamed(url, 'link')\n",
    "    \n",
    "    def get_node(self, df, parent, name, id, url):\n",
    "        return df.select(parent, name, id, url).withColumnRenamed(parent, 'pid')\\\n",
    "            .filter(df[id].isNotNull())\\\n",
    "            .withColumnRenamed(name, 'label')\\\n",
    "            .withColumnRenamed(id, 'ID')\\\n",
    "            .withColumnRenamed(url, 'link')"
   ]
  },
  {
   "cell_type": "code",
   "execution_count": 4,
   "metadata": {},
   "outputs": [],
   "source": [
    "import os\n",
    "import pandas\n",
    "from pyspark.sql.types import ArrayType, StringType, StructField, StructType\n",
    "from pyspark.sql.functions import col\n",
    "import json\n",
    "\n",
    "# from decorator import Decorator\n",
    "# from initializer import Initializer\n",
    "# from getter import Getter\n",
    "\n",
    "dec = Decorator()\n",
    "init = Initializer()\n",
    "getter = Getter()\n",
    "\n",
    "def handle(path, spark):\n",
    "    df = spark.read.csv(path, header=\"true\")\n",
    "    max_depth = dec.calc_max_depth(df)\n",
    "    depth_node_dict = create_depth_node_dict(df, max_depth)\n",
    "    if max_depth == 1:\n",
    "        node = depth_node_dict[1]\n",
    "        filled = dec.append_empty_children(node)\n",
    "        result = dec.concat_columns(filled)\n",
    "    else:\n",
    "        result = combine_nodes(depth_node_dict, max_depth)\n",
    "    return create_result(result, spark)\n",
    "\n",
    "def create_depth_node_dict(df, max_depth):\n",
    "    depth_node_dict = {}\n",
    "    for i in range(max_depth, 0, -1):\n",
    "        columns = getter.get_column_names(df, i)\n",
    "        if i == 1:\n",
    "            temp = getter.get_first_node( \\\n",
    "                                df, columns[0], \\\n",
    "                                columns[1], columns[2])\n",
    "            depth_node_dict[i] = dec.remove_duplicates(temp)\n",
    "        else:\n",
    "            parent_id = 'Level ' + str(i-1) + str(' - ID')\n",
    "            temp = getter.get_node(\\\n",
    "                                df, parent_id, columns[0], \\\n",
    "                                columns[1], columns[2])\n",
    "            depth_node_dict[i] = dec.remove_duplicates(temp)\n",
    "    return depth_node_dict\n",
    "\n",
    "def join_parent_child(left, right):\n",
    "    return left.join(\\\n",
    "        right, left.ID == right.tempID, 'left')\n",
    "\n",
    "def combine_nodes(depth_node_dict, max_depth):\n",
    "    agg = {}\n",
    "\n",
    "    for i in range(max_depth, 0, -1):\n",
    "        if max_depth == i:\n",
    "            node = depth_node_dict[i]\n",
    "            filled = dec.append_empty_children(node)\n",
    "            formatted = dec.concat_columns(filled).orderBy(col(\"concat\"))\n",
    "            agg[i] = dec.aggregate_child_node(formatted)\n",
    "        elif i == 1:\n",
    "            joined = join_parent_child(depth_node_dict[i], agg[i+1])\n",
    "            filled = dec.fill_null_children(joined)\n",
    "            agg[i] = filled\n",
    "        else:\n",
    "            joined = join_parent_child(depth_node_dict[i], agg[i+1])\n",
    "            filled = dec.fill_null_children(joined)\n",
    "            formatted = dec.concat_columns(filled).orderBy(col(\"concat\"))\n",
    "            agg[i] = dec.aggregate_child_node(formatted)\n",
    "    return agg[i]\n",
    "\n",
    "def create_result(df, spark):\n",
    "    if df:\n",
    "        result = df.select('label', 'ID', 'link', 'children')\n",
    "    else:\n",
    "        schema = StructType([ \\\n",
    "            StructField('label', StringType()), \\\n",
    "            StructField('ID', StringType()), \\\n",
    "            StructField('link', StringType()), \\\n",
    "            StructField('children', ArrayType(StructType()))])\n",
    "        result = spark.createDataFrame(spark.sparkContext.emptyRDD(), schema)\n",
    "    return result\n",
    "\n",
    "def write_output(result):\n",
    "    current = os.getcwd()\n",
    "    output_path = os.path.join(current, \"webout\")\n",
    "    # print(output)\n",
    "    result.write.json(path=output_path, ignoreNullFields=False, mode='overwrite')"
   ]
  },
  {
   "cell_type": "code",
   "execution_count": 5,
   "metadata": {},
   "outputs": [
    {
     "name": "stderr",
     "output_type": "stream",
     "text": [
      "21/12/30 19:03:59 WARN Utils: Your hostname, LTPH008120 resolves to a loopback address: 127.0.1.1; using 172.17.226.203 instead (on interface eth0)\n",
      "21/12/30 19:03:59 WARN Utils: Set SPARK_LOCAL_IP if you need to bind to another address\n",
      "Using Spark's default log4j profile: org/apache/spark/log4j-defaults.properties\n",
      "Setting default log level to \"WARN\".\n",
      "To adjust logging level use sc.setLogLevel(newLevel). For SparkR, use setLogLevel(newLevel).\n",
      "21/12/30 19:04:10 WARN NativeCodeLoader: Unable to load native-hadoop library for your platform... using builtin-java classes where applicable\n"
     ]
    }
   ],
   "source": [
    "spark = init.initialize()"
   ]
  },
  {
   "cell_type": "code",
   "execution_count": null,
   "metadata": {},
   "outputs": [
    {
     "name": "stderr",
     "output_type": "stream",
     "text": [
      "                                                                                \r"
     ]
    }
   ],
   "source": [
    "def trigger(path, spark):\n",
    "    result = handle(path, spark)\n",
    "    return result\n",
    "    \n",
    "path = \"/home/dindo/t2/csv_to_json/files/original_data.csv\"\n",
    "temp = trigger(path, spark)"
   ]
  },
  {
   "cell_type": "code",
   "execution_count": null,
   "metadata": {},
   "outputs": [],
   "source": [
    "temp2 = temp.collect()\n",
    "\n",
    "new = []\n",
    "for i in temp2:\n",
    "    new.append(i.asDict(True))"
   ]
  },
  {
   "cell_type": "code",
   "execution_count": null,
   "metadata": {},
   "outputs": [
    {
     "name": "stdout",
     "output_type": "stream",
     "text": [
      "<class 'list'>\n"
     ]
    }
   ],
   "source": [
    "print(type(new))\n",
    "new2 = json.dumps(new)"
   ]
  },
  {
   "cell_type": "code",
   "execution_count": null,
   "metadata": {},
   "outputs": [
    {
     "name": "stdout",
     "output_type": "stream",
     "text": [
      " * Serving Flask app '__main__' (lazy loading)\n",
      " * Environment: production\n",
      "\u001b[31m   WARNING: This is a development server. Do not use it in a production deployment.\u001b[0m\n",
      "\u001b[2m   Use a production WSGI server instead.\u001b[0m\n",
      " * Debug mode: on\n"
     ]
    },
    {
     "ename": "OSError",
     "evalue": "[Errno 98] Address already in use",
     "output_type": "error",
     "traceback": [
      "\u001b[0;31m---------------------------------------------------------------------------\u001b[0m",
      "\u001b[0;31mOSError\u001b[0m                                   Traceback (most recent call last)",
      "\u001b[0;32m/tmp/ipykernel_25631/622391862.py\u001b[0m in \u001b[0;36m<module>\u001b[0;34m\u001b[0m\n\u001b[1;32m      8\u001b[0m \u001b[0;34m\u001b[0m\u001b[0m\n\u001b[1;32m      9\u001b[0m \u001b[0;32mif\u001b[0m \u001b[0m__name__\u001b[0m \u001b[0;34m==\u001b[0m \u001b[0;34m'__main__'\u001b[0m\u001b[0;34m:\u001b[0m\u001b[0;34m\u001b[0m\u001b[0;34m\u001b[0m\u001b[0m\n\u001b[0;32m---> 10\u001b[0;31m     \u001b[0mapp\u001b[0m\u001b[0;34m.\u001b[0m\u001b[0mrun\u001b[0m\u001b[0;34m(\u001b[0m\u001b[0mdebug\u001b[0m\u001b[0;34m=\u001b[0m\u001b[0;32mTrue\u001b[0m\u001b[0;34m)\u001b[0m\u001b[0;34m\u001b[0m\u001b[0;34m\u001b[0m\u001b[0m\n\u001b[0m",
      "\u001b[0;32m~/.pyenv/versions/3.8.10/envs/3_8/lib/python3.8/site-packages/flask/app.py\u001b[0m in \u001b[0;36mrun\u001b[0;34m(self, host, port, debug, load_dotenv, **options)\u001b[0m\n\u001b[1;32m    918\u001b[0m \u001b[0;34m\u001b[0m\u001b[0m\n\u001b[1;32m    919\u001b[0m         \u001b[0;32mtry\u001b[0m\u001b[0;34m:\u001b[0m\u001b[0;34m\u001b[0m\u001b[0;34m\u001b[0m\u001b[0m\n\u001b[0;32m--> 920\u001b[0;31m             \u001b[0mrun_simple\u001b[0m\u001b[0;34m(\u001b[0m\u001b[0mt\u001b[0m\u001b[0;34m.\u001b[0m\u001b[0mcast\u001b[0m\u001b[0;34m(\u001b[0m\u001b[0mstr\u001b[0m\u001b[0;34m,\u001b[0m \u001b[0mhost\u001b[0m\u001b[0;34m)\u001b[0m\u001b[0;34m,\u001b[0m \u001b[0mport\u001b[0m\u001b[0;34m,\u001b[0m \u001b[0mself\u001b[0m\u001b[0;34m,\u001b[0m \u001b[0;34m**\u001b[0m\u001b[0moptions\u001b[0m\u001b[0;34m)\u001b[0m\u001b[0;34m\u001b[0m\u001b[0;34m\u001b[0m\u001b[0m\n\u001b[0m\u001b[1;32m    921\u001b[0m         \u001b[0;32mfinally\u001b[0m\u001b[0;34m:\u001b[0m\u001b[0;34m\u001b[0m\u001b[0;34m\u001b[0m\u001b[0m\n\u001b[1;32m    922\u001b[0m             \u001b[0;31m# reset the first request information if the development server\u001b[0m\u001b[0;34m\u001b[0m\u001b[0;34m\u001b[0m\u001b[0;34m\u001b[0m\u001b[0m\n",
      "\u001b[0;32m~/.pyenv/versions/3.8.10/envs/3_8/lib/python3.8/site-packages/werkzeug/serving.py\u001b[0m in \u001b[0;36mrun_simple\u001b[0;34m(hostname, port, application, use_reloader, use_debugger, use_evalex, extra_files, exclude_patterns, reloader_interval, reloader_type, threaded, processes, request_handler, static_files, passthrough_errors, ssl_context)\u001b[0m\n\u001b[1;32m    982\u001b[0m             \u001b[0ms\u001b[0m \u001b[0;34m=\u001b[0m \u001b[0msocket\u001b[0m\u001b[0;34m.\u001b[0m\u001b[0msocket\u001b[0m\u001b[0;34m(\u001b[0m\u001b[0maddress_family\u001b[0m\u001b[0;34m,\u001b[0m \u001b[0msocket\u001b[0m\u001b[0;34m.\u001b[0m\u001b[0mSOCK_STREAM\u001b[0m\u001b[0;34m)\u001b[0m\u001b[0;34m\u001b[0m\u001b[0;34m\u001b[0m\u001b[0m\n\u001b[1;32m    983\u001b[0m             \u001b[0ms\u001b[0m\u001b[0;34m.\u001b[0m\u001b[0msetsockopt\u001b[0m\u001b[0;34m(\u001b[0m\u001b[0msocket\u001b[0m\u001b[0;34m.\u001b[0m\u001b[0mSOL_SOCKET\u001b[0m\u001b[0;34m,\u001b[0m \u001b[0msocket\u001b[0m\u001b[0;34m.\u001b[0m\u001b[0mSO_REUSEADDR\u001b[0m\u001b[0;34m,\u001b[0m \u001b[0;36m1\u001b[0m\u001b[0;34m)\u001b[0m\u001b[0;34m\u001b[0m\u001b[0;34m\u001b[0m\u001b[0m\n\u001b[0;32m--> 984\u001b[0;31m             \u001b[0ms\u001b[0m\u001b[0;34m.\u001b[0m\u001b[0mbind\u001b[0m\u001b[0;34m(\u001b[0m\u001b[0mserver_address\u001b[0m\u001b[0;34m)\u001b[0m\u001b[0;34m\u001b[0m\u001b[0;34m\u001b[0m\u001b[0m\n\u001b[0m\u001b[1;32m    985\u001b[0m             \u001b[0ms\u001b[0m\u001b[0;34m.\u001b[0m\u001b[0mset_inheritable\u001b[0m\u001b[0;34m(\u001b[0m\u001b[0;32mTrue\u001b[0m\u001b[0;34m)\u001b[0m\u001b[0;34m\u001b[0m\u001b[0;34m\u001b[0m\u001b[0m\n\u001b[1;32m    986\u001b[0m \u001b[0;34m\u001b[0m\u001b[0m\n",
      "\u001b[0;31mOSError\u001b[0m: [Errno 98] Address already in use"
     ]
    }
   ],
   "source": [
    "from flask import Flask\n",
    "\n",
    "app = Flask(__name__)\n",
    "\n",
    "@app.route('/')\n",
    "def index():\n",
    "    return 'test'\n",
    "\n",
    "if __name__ == '__main__':\n",
    "    app.run(debug=True)"
   ]
  },
  {
   "cell_type": "code",
   "execution_count": null,
   "metadata": {},
   "outputs": [
    {
     "name": "stdout",
     "output_type": "stream",
     "text": [
      "[{\"label\": \"THE BEST\", \"ID\": \"178974\", \"link\": \"https://groceries.morrisons.com/browse/178974\", \"children\": [{\"label\": \"BAKERY & CAKES\", \"ID\": \"178971\", \"link\": \"https://groceries.morrisons.com/browse/178974/178971\", \"children\": [{\"label\": \"BREAD & BREAD ROLLS\", \"ID\": \"179023\", \"link\": \"https://groceries.morrisons.com/browse/178974/178971/179023\", \"children\": []}, {\"label\": \"CAKES, PIES & TARTS\", \"ID\": \"179024\", \"link\": \"https://groceries.morrisons.com/browse/178974/178971/179024\", \"children\": []}, {\"label\": \"CROISSANTS & BREAKFAST BAKERY\", \"ID\": \"179025\", \"link\": \"https://groceries.morrisons.com/browse/178974/178971/179025\", \"children\": []}, {\"label\": \"DESSERTS & PUDDINGS\", \"ID\": \"179026\", \"link\": \"https://groceries.morrisons.com/browse/178974/178971/179026\", \"children\": []}, {\"label\": \"FRUITED BREAD, SCONES & HOT CROSS BUNS\", \"ID\": \"179027\", \"link\": \"https://groceries.morrisons.com/browse/178974/178971/179027\", \"children\": []}]}, {\"label\": \"DRINKS\", \"ID\": \"178973\", \"link\": \"https://groceries.morrisons.com/browse/178974/178973\", \"children\": [{\"label\": \"BEER\", \"ID\": \"179039\", \"link\": \"https://groceries.morrisons.com/browse/178974/178973/179039\", \"children\": []}, {\"label\": \"SOFT DRINKS\", \"ID\": \"179037\", \"link\": \"https://groceries.morrisons.com/browse/178974/178973/179037\", \"children\": []}, {\"label\": \"WINE & SPARKLING\", \"ID\": \"179038\", \"link\": \"https://groceries.morrisons.com/browse/178974/178973/179038\", \"children\": []}]}, {\"label\": \"FOOD CUPBOARD\", \"ID\": \"178970\", \"link\": \"https://groceries.morrisons.com/browse/178974/178970\", \"children\": [{\"label\": \"ANTIPASTI\", \"ID\": \"178990\", \"link\": \"https://groceries.morrisons.com/browse/178974/178970/178990\", \"children\": []}, {\"label\": \"BISCUITS & CRACKERS\", \"ID\": \"178991\", \"link\": \"https://groceries.morrisons.com/browse/178974/178970/178991\", \"children\": []}, {\"label\": \"BREAKFAST CEREALS\", \"ID\": \"178992\", \"link\": \"https://groceries.morrisons.com/browse/178974/178970/178992\", \"children\": []}, {\"label\": \"CHOCOLATE & SWEETS\", \"ID\": \"178993\", \"link\": \"https://groceries.morrisons.com/browse/178974/178970/178993\", \"children\": []}, {\"label\": \"CONDIMENTS & DRESSINGS\", \"ID\": \"178994\", \"link\": \"https://groceries.morrisons.com/browse/178974/178970/178994\", \"children\": []}, {\"label\": \"CRISPS & SAVOURY SNACKS\", \"ID\": \"178995\", \"link\": \"https://groceries.morrisons.com/browse/178974/178970/178995\", \"children\": []}, {\"label\": \"HOMEBAKING\", \"ID\": \"179016\", \"link\": \"https://groceries.morrisons.com/browse/178974/178970/179016\", \"children\": []}, {\"label\": \"JAMS, SPREADS & CHUTNEYS\", \"ID\": \"179017\", \"link\": \"https://groceries.morrisons.com/browse/178974/178970/179017\", \"children\": []}, {\"label\": \"PASTA\", \"ID\": \"179018\", \"link\": \"https://groceries.morrisons.com/browse/178974/178970/179018\", \"children\": []}, {\"label\": \"PUDDINGS & DESSERTS\", \"ID\": \"179019\", \"link\": \"https://groceries.morrisons.com/browse/178974/178970/179019\", \"children\": []}, {\"label\": \"SAUCES, STOCKS & GRAVY\", \"ID\": \"179020\", \"link\": \"https://groceries.morrisons.com/browse/178974/178970/179020\", \"children\": []}, {\"label\": \"TEA & COFFEE\", \"ID\": \"179021\", \"link\": \"https://groceries.morrisons.com/browse/178974/178970/179021\", \"children\": []}, {\"label\": \"TINS & CANS\", \"ID\": \"179022\", \"link\": \"https://groceries.morrisons.com/browse/178974/178970/179022\", \"children\": []}]}, {\"label\": \"FRESH\", \"ID\": \"178969\", \"link\": \"https://groceries.morrisons.com/browse/178974/178969\", \"children\": [{\"label\": \"CHEESE\", \"ID\": \"178975\", \"link\": \"https://groceries.morrisons.com/browse/178974/178969/178975\", \"children\": []}, {\"label\": \"COOKED MEAT & ANTIPASTI\", \"ID\": \"178976\", \"link\": \"https://groceries.morrisons.com/browse/178974/178969/178976\", \"children\": []}, {\"label\": \"DAIRY & EGGS\", \"ID\": \"178977\", \"link\": \"https://groceries.morrisons.com/browse/178974/178969/178977\", \"children\": []}, {\"label\": \"DESSERTS\", \"ID\": \"178978\", \"link\": \"https://groceries.morrisons.com/browse/178974/178969/178978\", \"children\": []}, {\"label\": \"DRINKS\", \"ID\": \"178979\", \"link\": \"https://groceries.morrisons.com/browse/178974/178969/178979\", \"children\": []}, {\"label\": \"FISH & SEAFOOD\", \"ID\": \"178980\", \"link\": \"https://groceries.morrisons.com/browse/178974/178969/178980\", \"children\": []}, {\"label\": \"FRUIT & VEGETABLES\", \"ID\": \"178981\", \"link\": \"https://groceries.morrisons.com/browse/178974/178969/178981\", \"children\": []}, {\"label\": \"MEAT & POULTRY\", \"ID\": \"178982\", \"link\": \"https://groceries.morrisons.com/browse/178974/178969/178982\", \"children\": []}, {\"label\": \"NUTS & SNACKS\", \"ID\": \"178983\", \"link\": \"https://groceries.morrisons.com/browse/178974/178969/178983\", \"children\": []}, {\"label\": \"PIES & QUICHES \", \"ID\": \"178984\", \"link\": \"https://groceries.morrisons.com/browse/178974/178969/178984\", \"children\": []}, {\"label\": \"PIZZA, PASTA & GARLIC BREAD\", \"ID\": \"178985\", \"link\": \"https://groceries.morrisons.com/browse/178974/178969/178985\", \"children\": []}, {\"label\": \"READY MEALS\", \"ID\": \"178986\", \"link\": \"https://groceries.morrisons.com/browse/178974/178969/178986\", \"children\": []}, {\"label\": \"SAVOURY SNACKS & CHILLED\", \"ID\": \"178987\", \"link\": \"https://groceries.morrisons.com/browse/178974/178969/178987\", \"children\": []}, {\"label\": \"SOUPS & SAUCES\", \"ID\": \"178988\", \"link\": \"https://groceries.morrisons.com/browse/178974/178969/178988\", \"children\": []}, {\"label\": \"VEGETARIAN\", \"ID\": \"178989\", \"link\": \"https://groceries.morrisons.com/browse/178974/178969/178989\", \"children\": []}]}, {\"label\": \"FROZEN\", \"ID\": \"178972\", \"link\": \"https://groceries.morrisons.com/browse/178974/178972\", \"children\": [{\"label\": \"CAKES, PIES & TARTS\", \"ID\": \"179028\", \"link\": \"https://groceries.morrisons.com/browse/178974/178972/179028\", \"children\": []}, {\"label\": \"CHIPS, POTATOES & VEGETABLES\", \"ID\": \"179029\", \"link\": \"https://groceries.morrisons.com/browse/178974/178972/179029\", \"children\": []}, {\"label\": \"DESSERTS\", \"ID\": \"179030\", \"link\": \"https://groceries.morrisons.com/browse/178974/178972/179030\", \"children\": []}, {\"label\": \"FISH & SEAFOOD\", \"ID\": \"179031\", \"link\": \"https://groceries.morrisons.com/browse/178974/178972/179031\", \"children\": []}, {\"label\": \"ICE CREAM & LOLLIES\", \"ID\": \"179032\", \"link\": \"https://groceries.morrisons.com/browse/178974/178972/179032\", \"children\": []}, {\"label\": \"MEAT & POULTRY\", \"ID\": \"179033\", \"link\": \"https://groceries.morrisons.com/browse/178974/178972/179033\", \"children\": []}, {\"label\": \"PIES & PASTRIES\", \"ID\": \"179034\", \"link\": \"https://groceries.morrisons.com/browse/178974/178972/179034\", \"children\": []}, {\"label\": \"PIZZA & GARLIC BREAD\", \"ID\": \"179035\", \"link\": \"https://groceries.morrisons.com/browse/178974/178972/179035\", \"children\": []}, {\"label\": \"READY MEALS\", \"ID\": \"179036\", \"link\": \"https://groceries.morrisons.com/browse/178974/178972/179036\", \"children\": []}]}]}]\n"
     ]
    },
    {
     "name": "stderr",
     "output_type": "stream",
     "text": [
      "21/12/30 17:13:07 WARN HeartbeatReceiver: Removing executor driver with no recent heartbeats: 14903460 ms exceeds timeout 120000 ms\n",
      "21/12/30 17:13:07 WARN SparkContext: Killing executors is not supported by current scheduler.\n"
     ]
    }
   ],
   "source": [
    "print(new2)"
   ]
  },
  {
   "cell_type": "code",
   "execution_count": null,
   "metadata": {},
   "outputs": [],
   "source": []
  }
 ],
 "metadata": {
  "interpreter": {
   "hash": "942b737bfbd2eeb7cc0270bf9b8fae31a818c272b8ffa8488a25c69f51aba770"
  },
  "kernelspec": {
   "display_name": "Python 3.8.10 64-bit ('3_8': pyenv)",
   "language": "python",
   "name": "python3"
  },
  "language_info": {
   "codemirror_mode": {
    "name": "ipython",
    "version": 3
   },
   "file_extension": ".py",
   "mimetype": "text/x-python",
   "name": "python",
   "nbconvert_exporter": "python",
   "pygments_lexer": "ipython3",
   "version": "3.8.10"
  },
  "orig_nbformat": 4
 },
 "nbformat": 4,
 "nbformat_minor": 2
}
